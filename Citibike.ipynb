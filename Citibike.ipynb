{
 "cells": [
  {
   "cell_type": "code",
   "execution_count": 1,
   "metadata": {
    "collapsed": false
   },
   "outputs": [],
   "source": [
    "import config, pickle\n",
    "import numpy as np\n",
    "import datetime as dt"
   ]
  },
  {
   "cell_type": "code",
   "execution_count": 2,
   "metadata": {
    "collapsed": false
   },
   "outputs": [],
   "source": [
    "ip = pickle.load(open(config.dynamic_CC_IP, 'rb'))\n",
    "CC = pickle.load(open(config.all_CC, 'rb'))\n",
    "station_fill_lvls = pickle.load(open(config.station_fill_lvls, 'rb'))\n",
    "tripDF = pickle.load(open(config.tripDF_pickle, 'rb'))"
   ]
  },
  {
   "cell_type": "code",
   "execution_count": 6,
   "metadata": {
    "collapsed": false
   },
   "outputs": [
    {
     "name": "stdout",
     "output_type": "stream",
     "text": [
      "2016_11_29\n",
      "2016_11_28\n",
      "2016_11_23\n",
      "2016_11_22\n",
      "2016_11_21\n",
      "2016_11_25\n",
      "2016_11_24\n",
      "2016_11_01\n",
      "2016_11_03\n",
      "2016_11_02\n",
      "2016_11_04\n",
      "2016_11_07\n",
      "2016_11_09\n",
      "2016_11_08\n",
      "2016_12_01\n",
      "2016_10_31\n",
      "2016_12_05\n",
      "2016_12_06\n",
      "2016_12_07\n",
      "2016_12_08\n",
      "2016_12_09\n",
      "2016_12_02\n",
      "2016_11_10\n",
      "2016_11_11\n",
      "2016_11_16\n",
      "2016_11_17\n",
      "2016_11_14\n",
      "2016_11_15\n",
      "2016_11_18\n",
      "2016_12_14\n",
      "2016_12_13\n",
      "2016_12_12\n",
      "2016_11_30\n",
      "10.779 37\n"
     ]
    }
   ],
   "source": [
    "ip_0 = ip[0]\n",
    "ip_1 = ip[0.01]\n",
    "impact = 0\n",
    "count = 0\n",
    "for d in ip_0:\n",
    "    print d\n",
    "    startDay = dt.datetime.strptime(d, '%Y_%m_%d')\n",
    "    endDay = startDay + dt.timedelta(days=1)\n",
    "    dayTripDF = tripDF[(tripDF.startDatetime>=startDay) &\n",
    "                        (tripDF.endDatetime < endDay)]\n",
    "    for s in ip_0[d]:\n",
    "        for t in ip_0[d][s]:\n",
    "            if t not in ip_1[d][s]:\n",
    "                start = t*30\n",
    "                end = start + 30\n",
    "                startData = dayTripDF[(dayTripDF.minuteIndex>=start) &\n",
    "                                  (dayTripDF.minuteIndex < end) &\n",
    "                                  (dayTripDF['startID'] == s) &\n",
    "                                  (dayTripDF['start status'] < 0)]\n",
    "                \n",
    "                for _, data in startData.iterrows():\n",
    "                    impact += data.startDeltaCC\n",
    "                    count += 1\n",
    "            \n",
    "                endData = dayTripDF[(dayTripDF.minuteIndex>=start) &\n",
    "                                (dayTripDF.minuteIndex < end) &\n",
    "                                (dayTripDF['endID'] == s) &\n",
    "                                (dayTripDF['end status'] > 0)]\n",
    "                \n",
    "                for _, data in endData.iterrows():\n",
    "                    impact += data.endDeltaCC\n",
    "                    count += 1\n",
    "                    \n",
    "print impact, count"
   ]
  },
  {
   "cell_type": "code",
   "execution_count": 29,
   "metadata": {
    "collapsed": false
   },
   "outputs": [
    {
     "name": "stdout",
     "output_type": "stream",
     "text": [
      "0.0637 -0.1045\n"
     ]
    }
   ],
   "source": [
    "ind = 17\n",
    "s = 3122\n",
    "d = '2016_11_29'\n",
    "lvl = station_fill_lvls[d][s][ind]\n",
    "print CC[ind][s][lvl] - CC[ind][s][lvl+1], CC[ind][s][lvl] - CC[ind][s][lvl - 1]"
   ]
  },
  {
   "cell_type": "code",
   "execution_count": 32,
   "metadata": {
    "collapsed": false
   },
   "outputs": [
    {
     "data": {
      "text/plain": [
       "{12: 11,\n",
       " 13: 11,\n",
       " 14: 11,\n",
       " 15: 10,\n",
       " 16: 10,\n",
       " 17: 9,\n",
       " 18: 9,\n",
       " 19: 9,\n",
       " 20: 9,\n",
       " 21: 9,\n",
       " 22: 8,\n",
       " 23: 8}"
      ]
     },
     "execution_count": 32,
     "metadata": {},
     "output_type": "execute_result"
    }
   ],
   "source": [
    "station_fill_lvls[d][s]"
   ]
  },
  {
   "cell_type": "code",
   "execution_count": null,
   "metadata": {
    "collapsed": true
   },
   "outputs": [],
   "source": []
  }
 ],
 "metadata": {
  "kernelspec": {
   "display_name": "Python 2",
   "language": "python",
   "name": "python2"
  },
  "language_info": {
   "codemirror_mode": {
    "name": "ipython",
    "version": 2
   },
   "file_extension": ".py",
   "mimetype": "text/x-python",
   "name": "python",
   "nbconvert_exporter": "python",
   "pygments_lexer": "ipython2",
   "version": "2.7.12"
  }
 },
 "nbformat": 4,
 "nbformat_minor": 0
}
