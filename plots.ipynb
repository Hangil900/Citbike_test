{
 "cells": [
  {
   "cell_type": "code",
   "execution_count": 1,
   "metadata": {
    "collapsed": false
   },
   "outputs": [
    {
     "name": "stderr",
     "output_type": "stream",
     "text": [
      "/Users/hangil/anaconda/lib/python2.7/site-packages/matplotlib/font_manager.py:273: UserWarning: Matplotlib is building the font cache using fc-list. This may take a moment.\n",
      "  warnings.warn('Matplotlib is building the font cache using fc-list. This may take a moment.')\n"
     ]
    }
   ],
   "source": [
    "import config, pickle\n",
    "import matplotlib.pyplot as plt\n",
    "import numpy as np\n",
    "import models"
   ]
  },
  {
   "cell_type": "code",
   "execution_count": 2,
   "metadata": {
    "collapsed": false
   },
   "outputs": [],
   "source": [
    "Iperiods = pickle.load(open(config.fluid_incentive_periods, 'rb'))\n",
    "static_Iperiods = pickle.load(open((config.static_incentive_periods).format(0.1), 'rb'))\n",
    "rates = pickle.load(open(config.flow_rates_final, 'rb'))\n",
    "base_rates = pickle.load(open(config.base_rates_final, 'rb'))\n",
    "tripDF = pickle.load(open(config.tripDF_pickle, 'rb'))\n",
    "rideProb = models.get_ride_prob(rates, base_rates)\n",
    "AMstations = pickle.load(open(config.curr_Istations, 'rb'))"
   ]
  },
  {
   "cell_type": "code",
   "execution_count": 31,
   "metadata": {
    "collapsed": true
   },
   "outputs": [],
   "source": [
    "# Stations\n",
    "\n",
    "EV = [438, 326, 237, 236, 439, 428, 432,\n",
    "        301, 393, 433, 445, 394, 317, 403, 150, 302]\n",
    "\n",
    "FiDi = [279, 306, 376, 195, 264, 360, 304, 260,\n",
    "            534, 259, 427, 315, 337, 415, 319, 387]"
   ]
  },
  {
   "cell_type": "code",
   "execution_count": 59,
   "metadata": {
    "collapsed": true
   },
   "outputs": [],
   "source": [
    "stations = FiDi\n",
    "\n",
    "startA = []\n",
    "endA = []\n",
    "for d in Iperiods:\n",
    "    for s in stations:\n",
    "        if s in Iperiods[d]:\n",
    "            startA.append(Iperiods[d][s][0])\n",
    "            endA.append(Iperiods[d][s][1])\n",
    "\n",
    "noise = np.random.random(len(startA)) / 2\n",
    "noise2 = np.random.random(len(startA)) / 2\n",
    "\n",
    "startA = np.array(startA) / 60. + noise\n",
    "endA = np.array(endA) / 60. + noise2\n",
    "\n",
    "\n",
    "# Create heatmap\n",
    "heatmap, xedges, yedges = np.histogram2d(startA, endA, bins=(64,64))\n",
    "extent = [xedges[0], xedges[-1], yedges[0], yedges[-1]]\n",
    " \n",
    "# Plot heatmap\n",
    "plt.clf()\n",
    "plt.imshow(heatmap, extent=extent)\n",
    "plt.title(\"start and end incentive periods\")\n",
    "plt.xlabel(\"start incentive period\")\n",
    "plt.ylabel(\"end incentive period\")\n",
    "plt.savefig('./plots/heatmap_FiDi_start_end_incentive_period.png')\n",
    "plt.close()"
   ]
  },
  {
   "cell_type": "code",
   "execution_count": 60,
   "metadata": {
    "collapsed": true
   },
   "outputs": [],
   "source": [
    "# scatter start and end of incentive periods\n",
    "plt.scatter(startA,endA,alpha = 0.1)\n",
    "plt.title(\"start and end incentive periods\")\n",
    "plt.xlabel(\"start incentive period\")\n",
    "plt.ylabel(\"end incentive period\")\n",
    "plt.ylim(5,13)\n",
    "plt.xlim(5,13)\n",
    "plt.savefig('./plots/scatter_FiDi_start_end_incentive_period.png')\n",
    "plt.close()"
   ]
  },
  {
   "cell_type": "code",
   "execution_count": 5,
   "metadata": {
    "collapsed": false
   },
   "outputs": [],
   "source": [
    "relevantdata = tripDF[(tripDF['start status'] < 0) & (tripDF['end status'] == 0)]\n",
    "# scatter end station improvement vs start station improvement\n",
    "plt.scatter(relevantdata.startDeltaCC,relevantdata.endDeltaCC,alpha = 0.1)\n",
    "plt.title(\"dropoff DCC vs pickup DCC only start station incentivized\")\n",
    "plt.xlabel(\"start station Delta CC\")\n",
    "plt.ylabel(\"end station Delta CC\")\n",
    "plt.ylim(-1.1,1.1)\n",
    "plt.xlim(-1.1,1.1)\n",
    "plt.savefig('./plots/scatter_start incent end neutral.png')\n",
    "plt.close()"
   ]
  },
  {
   "cell_type": "code",
   "execution_count": 6,
   "metadata": {
    "collapsed": true
   },
   "outputs": [],
   "source": [
    "relevantdata = tripDF[(tripDF['start status'] == 0) & (tripDF['end status'] >0 )]\n",
    "# scatter end station improvement vs start station improvement\n",
    "plt.scatter(relevantdata.startDeltaCC,relevantdata.endDeltaCC,alpha = 0.1)\n",
    "plt.title(\"dropoff DCC vs pickup DCC only end station incentivized\")\n",
    "plt.xlabel(\"start station Delta CC\")\n",
    "plt.ylabel(\"end station Delta CC\")\n",
    "plt.ylim(-1.1,1.1)\n",
    "plt.xlim(-1.1,1.1)\n",
    "plt.savefig('./plots/scatter_start neutral end incent.png')\n",
    "plt.close()"
   ]
  },
  {
   "cell_type": "code",
   "execution_count": 7,
   "metadata": {
    "collapsed": false
   },
   "outputs": [],
   "source": [
    "relevantdata = tripDF[(tripDF['start status'] < 0) & (tripDF['end status'] > 0)]\n",
    "# scatter end station improvement vs start station improvement\n",
    "plt.scatter(relevantdata.startDeltaCC,relevantdata.endDeltaCC,alpha = 0.1)\n",
    "plt.title(\"dropoff DCC vs pickup DCC both start and end station incentivized\")\n",
    "plt.xlabel(\"start station Delta CC\")\n",
    "plt.ylabel(\"end station Delta CC\")\n",
    "plt.ylim(-1.1,1.1)\n",
    "plt.xlim(-1.1,1.1)\n",
    "plt.savefig('./plots/scatter_start incent end incent.png')\n",
    "plt.close()\n",
    "        "
   ]
  },
  {
   "cell_type": "code",
   "execution_count": 37,
   "metadata": {
    "collapsed": true
   },
   "outputs": [],
   "source": [
    "import numpy as np\n",
    "num_days = len(rates)\n",
    "num_stations = len(rates[rates.keys()[0]])\n",
    "num_time = 48\n",
    "\n",
    "incentA = np.zeros(shape=(num_days, num_stations, num_time))\n",
    "normA = np.zeros(shape=(num_days, num_stations, num_time))\n",
    "baseA = np.zeros(shape=(num_stations, num_time))\n",
    "stations = rates[rates.keys()[0]].keys()\n",
    "stations.sort()\n",
    "for i, d in enumerate(rates):\n",
    "    for j, s in enumerate(stations):\n",
    "        for k, t in enumerate(range(48)):\n",
    "            incentA[i][j][k] = rates[d][s][t]['out']['incent'] - rates[d][s][t]['in']['incent'] \n",
    "            normA[i][j][k] = rates[d][s][t]['out']['normal'] - rates[d][s][t]['in']['normal']\n",
    "            baseA[j][k] = base_rates[s][t]['out'] - base_rates[s][t]['in']\n",
    "            \n",
    "incentA = incentA.mean(axis = 0)\n",
    "normA = normA.mean(axis = 0)"
   ]
  },
  {
   "cell_type": "code",
   "execution_count": 38,
   "metadata": {
    "collapsed": false
   },
   "outputs": [],
   "source": [
    "%matplotlib inline\n",
    "dates = rates.keys()\n",
    "\n",
    "for i, s in enumerate(stations):\n",
    "    iA = incentA[i] * 30\n",
    "    nA = normA[i] * 30\n",
    "    bA = baseA[i] * 30\n",
    "    \n",
    "    iA = iA[12:24]\n",
    "    nA = nA[12:24]\n",
    "    bA = bA[12:24]\n",
    "    X = np.arange(12, 24) *30.0 / 60.0\n",
    "    fig = plt.figure()\n",
    "    plt.plot(X, iA, 'r-', label = 'incent angels')\n",
    "    plt.plot(X, nA, 'b-', label= 'normal')\n",
    "    plt.plot(X, bA, 'g-', label='non-incent angels')\n",
    "    \n",
    "    plt.legend(loc= 'upper right')\n",
    "    fig.savefig('./plots/rates/rates_{0}.png'.format(s), dpi=fig.dpi)\n",
    "    if s in EV:\n",
    "        fig.savefig('./plots/rates/EV/rates_{0}.png'.format(s), dpi=fig.dpi)\n",
    "    if s in FiDi:\n",
    "        fig.savefig('./plots/rates/FiDi/rates_{0}.png'.format(s), dpi=fig.dpi)\n",
    "    #plt.show()\n",
    "    plt.close(fig)"
   ]
  },
  {
   "cell_type": "code",
   "execution_count": 55,
   "metadata": {
    "collapsed": false
   },
   "outputs": [],
   "source": [
    "# Plot endtrips for all riders\n",
    "station_types = [EV, FiDi]\n",
    "filenames = ['EV', 'FiDi']\n",
    "for filename, curr_stations in zip(filenames, station_types):\n",
    "    inrateA = np.zeros(shape=(48,))\n",
    "    outrateA = np.zeros(shape=(48,))\n",
    "    for i, d in enumerate(rates):\n",
    "        for j, s in enumerate(stations):\n",
    "            if s not in curr_stations:\n",
    "                continue\n",
    "            for k, t in enumerate(range(48)):\n",
    "                inrateA[k] += rates[d][s][t]['in']['incent'] \n",
    "                inrateA[k] += rates[d][s][t]['in']['normal']\n",
    "\n",
    "                outrateA[k] += rates[d][s][t]['out']['incent'] \n",
    "                outrateA[k] += rates[d][s][t]['out']['normal']\n",
    "\n",
    "    inrateA /= float(len(rates)) * 30.0\n",
    "    outrateA /= float(len(rates)) * 30.0\n",
    "    diffA = outrateA - inrateA\n",
    "    X = np.arange(48) *30.0 / 60.0\n",
    "\n",
    "    fig = plt.figure()\n",
    "    plt.plot(X, inrateA, 'r-', label = 'inflow')\n",
    "    plt.plot(X, outrateA, 'b-', label= 'outflow')\n",
    "    plt.plot(X, diffA, 'g-', label='net flow')\n",
    "    plt.legend(loc= 'upper right')\n",
    "    fig.savefig('./plots/{0}_rides_cumu.png'.format(filename), dpi=fig.dpi)\n",
    "    plt.close(fig)\n",
    "        \n",
    "    \n",
    "    "
   ]
  },
  {
   "cell_type": "code",
   "execution_count": 39,
   "metadata": {
    "collapsed": true
   },
   "outputs": [],
   "source": [
    "import numpy as np\n",
    "num_days = len(rates)\n",
    "num_stations = len(rates[rates.keys()[0]])\n",
    "num_time = 48\n",
    "\n",
    "incentA = np.zeros(shape=(num_days, num_stations, num_time))\n",
    "normA = np.zeros(shape=(num_days, num_stations, num_time))\n",
    "baseA = np.zeros(shape=(num_stations, num_time))\n",
    "stations = rates[rates.keys()[0]].keys()\n",
    "stations.sort()\n",
    "for i, d in enumerate(rates):\n",
    "    for j, s in enumerate(stations):\n",
    "        for k, t in enumerate(range(48)):\n",
    "            if s in AMstations:\n",
    "                if AMstations[s] == -1:\n",
    "                    incentA[i][j][k] = rates[d][s][t]['out']['incent'] \n",
    "                    baseA[j][k] = base_rates[s][t]['out']\n",
    "                elif AMstations[s] == 1:\n",
    "                    incentA[i][j][k] = -1. * rates[d][s][t]['in']['incent'] \n",
    "                    baseA[j][k] = -1. *base_rates[s][t]['in']\n",
    "                else:\n",
    "                    incentA[i][j][k] = rates[d][s][t]['out']['incent']  - rates[d][s][t]['in']['incent']\n",
    "                    baseA[j][k] = base_rates[s][t]['out'] - base_rates[s][t]['in']\n",
    "                \n",
    "                normA[i][j][k] = rates[d][s][t]['out']['normal'] - rates[d][s][t]['in']['normal']\n",
    "            \n",
    "incentA = incentA.mean(axis = 0)\n",
    "normA = normA.mean(axis = 0)"
   ]
  },
  {
   "cell_type": "code",
   "execution_count": 40,
   "metadata": {
    "collapsed": false
   },
   "outputs": [
    {
     "name": "stdout",
     "output_type": "stream",
     "text": [
      "77\n"
     ]
    }
   ],
   "source": [
    "%matplotlib inline\n",
    "dates = rates.keys()\n",
    "\n",
    "import pdb\n",
    "error_c = 0\n",
    "for i, s in enumerate(stations):\n",
    "    if s not in AMstations:\n",
    "        error_c += 1\n",
    "        continue\n",
    "    iA = incentA[i] * 30\n",
    "    nA = normA[i] * 30\n",
    "    bA = baseA[i] * 30\n",
    "    \n",
    "    iA = iA[12:24]\n",
    "    nA = nA[12:24]\n",
    "    bA = bA[12:24]\n",
    "    X = np.arange(12, 24) *30.0 / 60.0\n",
    "    fig = plt.figure(figsize=(10.0, 10.0))\n",
    "    plt.plot(X, iA, 'r-', label = 'incent angels')\n",
    "    plt.plot(X, nA, 'b-', label= 'normal')\n",
    "    plt.plot(X, bA, 'g-', label='non-incent angels')\n",
    "    \n",
    "    y = min(min(np.min(iA), np.min(nA)), np.min(bA))\n",
    "    inc = 0.4\n",
    "    y -= inc\n",
    "    for count,d in enumerate(dates):\n",
    "        if s not in Iperiods[d]:\n",
    "            continue\n",
    "        if count % 2 == 1 or (static_Iperiods[d][s][0] == 360 and static_Iperiods[d][s][1] == 360):\n",
    "            continue\n",
    "            \n",
    "        start = (Iperiods[d][s][0] / 60.)\n",
    "        end = (Iperiods[d][s][1] / 60.)\n",
    "        plt.hlines(y=y, xmin = start, xmax= end, colors='r')\n",
    "        y -= inc\n",
    "                \n",
    "        start = (static_Iperiods[d][s][0] / 60.)\n",
    "        end = (static_Iperiods[d][s][1] / 60.)\n",
    "        plt.hlines(y=y, xmin = start, xmax= end, colors='b')\n",
    "        y -= inc\n",
    "    \n",
    "    y_max = max(max(np.max(iA), np.max(nA)), np.max(bA))\n",
    "    plt.ylim((y - inc, y_max +7))\n",
    "    plt.legend(loc= 'upper right')\n",
    "    incent = 'end'\n",
    "    if AMstations[s] == -1:\n",
    "        incent = 'start'\n",
    "    fig.savefig('./plots/rates_incent/rates_{0}_{1}.png'.format(s, incent))\n",
    "    if s in EV:\n",
    "        fig.savefig('./plots/rates_incent/EV/rates_{0}_{1}.png'.format(s, incent))\n",
    "    if s in FiDi:\n",
    "        fig.savefig('./plots/rates_incent/FiDi/rates_{0}_{1}.png'.format(s, incent))\n",
    "    #plt.show()\n",
    "    plt.close(fig)\n",
    "    \n",
    "print error_c"
   ]
  },
  {
   "cell_type": "code",
   "execution_count": null,
   "metadata": {
    "collapsed": true
   },
   "outputs": [],
   "source": [
    "# Histogram of number of rides per day per station in the AM period\n",
    "import datetime as dt\n",
    "AMstations # Stations in AM period\n",
    "trip_counts = []\n",
    "AMTrips = trips = tripDF[(tripDF['startTimeIndex'] >= 12) & (tripDF['startTimeIndex'] < 24)]\n",
    "dates = rates.keys()\n",
    "dates.sort()\n",
    "for d in dates:\n",
    "    today = dt.datetime.strptime(d, '%Y_%m_%d')\n",
    "    tmrw = today + dt.timedelta(days=1)\n",
    "    todayTrips = AMTrips[(AMTrips['startDatetime'] >= today) & (AMTrips['endDatetime'] <= tmrw)]\n",
    "    for s in AMstations:\n",
    "        incent = AMstations[s]\n",
    "        if incent == -1:\n",
    "            trips = todayTrips[(todayTrips['startID'] == s)]\n",
    "        else:\n",
    "            trips = todayTrips[(todayTrips['endID'] == s)]\n",
    "\n",
    "        trip_counts.append(len(trips))\n",
    "        "
   ]
  },
  {
   "cell_type": "code",
   "execution_count": 65,
   "metadata": {
    "collapsed": false
   },
   "outputs": [
    {
     "name": "stdout",
     "output_type": "stream",
     "text": [
      "5381 15584\n"
     ]
    },
    {
     "data": {
      "image/png": "[encoded data removed]",
      "text/plain": [
       "<matplotlib.figure.Figure at 0x157cf5890>"
      ]
     },
     "metadata": {},
     "output_type": "display_data"
    }
   ],
   "source": [
    "%matplotlib inline\n",
    "trip_counts = np.array(trip_counts)\n",
    "total_rides = trip_counts.sum()\n",
    "print total_rides, len(tripDF)\n",
    "\n",
    "plt.hist(trip_counts, bins='auto')  # arguments are passed to np.histogram\n",
    "plt.title(\"Histogram of rides in a single day for station\")\n",
    "plt.savefig('./plots/hist_rides_single_day.png')\n",
    "plt.show()"
   ]
  },
  {
   "cell_type": "code",
   "execution_count": null,
   "metadata": {
    "collapsed": true
   },
   "outputs": [],
   "source": []
  }
 ],
 "metadata": {
  "kernelspec": {
   "display_name": "Python 2",
   "language": "python",
   "name": "python2"
  },
  "language_info": {
   "codemirror_mode": {
    "name": "ipython",
    "version": 2
   },
   "file_extension": ".py",
   "mimetype": "text/x-python",
   "name": "python",
   "nbconvert_exporter": "python",
   "pygments_lexer": "ipython2",
   "version": "2.7.12"
  }
 },
 "nbformat": 4,
 "nbformat_minor": 0
}
