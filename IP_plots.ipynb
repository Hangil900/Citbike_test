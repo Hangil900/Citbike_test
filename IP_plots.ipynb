{
 "cells": [
  {
   "cell_type": "code",
   "execution_count": 1,
   "metadata": {
    "collapsed": false
   },
   "outputs": [
    {
     "name": "stderr",
     "output_type": "stream",
     "text": [
      "/Users/hangil/anaconda/lib/python2.7/site-packages/matplotlib/font_manager.py:273: UserWarning: Matplotlib is building the font cache using fc-list. This may take a moment.\n",
      "  warnings.warn('Matplotlib is building the font cache using fc-list. This may take a moment.')\n"
     ]
    }
   ],
   "source": [
    "import config, pickle\n",
    "import matplotlib.pyplot as plt\n",
    "import numpy as np\n",
    "import models\n",
    "import datetime as dt\n",
    "import pandas as pd"
   ]
  },
  {
   "cell_type": "code",
   "execution_count": 3,
   "metadata": {
    "collapsed": false
   },
   "outputs": [],
   "source": [
    "fluid_IP = pickle.load(open(config.fluid_incentive_periods, 'rb'))\n",
    "optimal_IP = pickle.load(open((config.optimal_incentive_periods).format(0.1), 'rb'))\n",
    "static_IP = pickle.load(open((config.static_incentive_periods).format(0.01), 'rb'))\n",
    "dyn_CC_IP = models.get_dynamic_CC_IP(None)\n",
    "rates = pickle.load(open(config.flow_rates_final, 'rb'))\n",
    "base_rates = pickle.load(open(config.base_rates_final, 'rb'))\n",
    "tripDF = pickle.load(open(config.tripDF_pickle, 'rb'))\n",
    "rideProb = models.get_ride_prob(rates, base_rates)\n",
    "AMstations = pickle.load(open(config.curr_Istations, 'rb'))"
   ]
  },
  {
   "cell_type": "code",
   "execution_count": 5,
   "metadata": {
    "collapsed": true
   },
   "outputs": [],
   "source": [
    "%matplotlib inline\n",
    "dates = rates.keys()\n",
    "dates.sort()\n",
    "start_day, end_day = dates[0], dates[-1]\n",
    "start_day = dt.datetime.strptime(start_day, '%Y_%m_%d')\n",
    "end_day = dt.datetime.strptime(end_day, '%Y_%m_%d') + dt.timedelta(days = 1)\n",
    "starts = tripDF[(tripDF['startDatetime'] >= start_day) & (tripDF['endDatetime'] < end_day) &\n",
    "              (tripDF['minuteIndex'] >= 360) & (tripDF['minuteIndex'] < 720) & (tripDF['start status'] < 0)]\n",
    "\n",
    "ends = tripDF[(tripDF['startDatetime'] >= start_day) & (tripDF['endDatetime'] < end_day) &\n",
    "              (tripDF['minuteIndex'] >= 360) & (tripDF['minuteIndex'] < 720) & (tripDF['end status'] > 0)]\n",
    "\n",
    "start_CC = starts['startDeltaCC']\n",
    "end_CC = ends['endDeltaCC']\n",
    "start_times = starts['minuteIndex'] / 60.\n",
    "end_times = ends['minuteIndex'] / 60.\n",
    "\n",
    "# scatter end station improvement vs start station improvement\n",
    "plt.figure(figsize=(100,80))\n",
    "plt.scatter(start_times, start_CC,alpha = 0.1, c='b')\n",
    "plt.scatter(end_times, end_CC, alpha= 0.1, c='r')\n",
    "plt.title(\"Time vs. Delta CC\")\n",
    "plt.xlabel(\"Time of ride\")\n",
    "plt.ylabel(\"Total Delta CC\")\n",
    "plt.ylim((-1.1, 1.1))\n",
    "#plt.show()\n",
    "plt.savefig('./plots/scatter_incent_CC.png')\n",
    "plt.close()"
   ]
  },
  {
   "cell_type": "code",
   "execution_count": 6,
   "metadata": {
    "collapsed": false
   },
   "outputs": [
    {
     "data": {
      "text/plain": [
       "(datetime.datetime(2016, 10, 31, 0, 0), datetime.datetime(2016, 12, 15, 0, 0))"
      ]
     },
     "execution_count": 6,
     "metadata": {},
     "output_type": "execute_result"
    }
   ],
   "source": [
    "start_day, end_day"
   ]
  },
  {
   "cell_type": "markdown",
   "metadata": {},
   "source": [
    "### Plotting Dynamic_CC scatter of CC"
   ]
  },
  {
   "cell_type": "code",
   "execution_count": 30,
   "metadata": {
    "collapsed": false
   },
   "outputs": [],
   "source": [
    "static_IP2 = {}\n",
    "for d in static_IP[0.0]:\n",
    "    static_IP2[d] = {}\n",
    "    for s in static_IP[0.0][d]:\n",
    "        start = static_IP[0.0][d][s][0] / config.interval\n",
    "        end = static_IP[0.0][d][s][1] / config.interval\n",
    "        static_IP2[d][s] = range(start, end)\n",
    "        \n",
    "        \n",
    "fluid_IP2 = {}\n",
    "for d in fluid_IP:\n",
    "    fluid_IP2[d] = {}\n",
    "    for s in fluid_IP[d]:\n",
    "        start = fluid_IP[d][s][0] / config.interval\n",
    "        end = fluid_IP[d][s][1] / config.interval\n",
    "        fluid_IP2[d][s] = range(start, end)"
   ]
  },
  {
   "cell_type": "code",
   "execution_count": 47,
   "metadata": {
    "collapsed": false
   },
   "outputs": [],
   "source": [
    "%matplotlib inline\n",
    "dates = rates.keys()\n",
    "dates.sort()\n",
    "start_day, end_day = dates[0], dates[-1]\n",
    "start_day = dt.datetime.strptime(start_day, '%Y_%m_%d')\n",
    "end_day = dt.datetime.strptime(end_day, '%Y_%m_%d') + dt.timedelta(days = 1)\n",
    "trips = tripDF[(tripDF['startDatetime'] >= start_day) & (tripDF['endDatetime'] < end_day) &\n",
    "              (tripDF['minuteIndex'] >= 360) & (tripDF['minuteIndex'] < 720)]\n",
    "\n",
    "IPS = [dyn_CC_IP, fluid_IP2, static_IP2]\n",
    "model_names = ['Dynamic_CC', 'Fluid', 'Optimized']\n",
    "plot_XY = []\n",
    "\n",
    "\n",
    "for IP, model_name in zip(IPS, model_names):\n",
    "    incent_trips = None\n",
    "    other_trips = None\n",
    "    for d in IP:\n",
    "        for s in IP[d]:\n",
    "            today = dt.datetime.strptime(d, '%Y_%m_%d')\n",
    "            tmrw = dt.timedelta(days= 1) + today\n",
    "            ctrips = trips[(trips['startDatetime'] >= today) & (trips['endDatetime'] < tmrw)]\n",
    "            starts = ctrips[(ctrips['startID'] == s) & (ctrips['start status'] < 0)]\n",
    "            ends = ctrips[(ctrips['endID'] == s) & (ctrips['end status'] > 0)]\n",
    "\n",
    "            for ind in range(12, 24):\n",
    "                start = config.interval * ind\n",
    "                end = config.interval * (ind + 1)\n",
    "\n",
    "                startData = starts[(starts.minuteIndex>=start) &\n",
    "                                   (starts.minuteIndex < end)]\n",
    "\n",
    "                endData = ends[(ends.minuteIndex>=start) &\n",
    "                                (ends.minuteIndex < end)]\n",
    "\n",
    "                CC_A = np.concatenate((np.array(startData['startDeltaCC']), np.array(endData['endDeltaCC'])))\n",
    "                time_A = np.concatenate((np.array(startData['minuteIndex']), np.array(endData['minuteIndex'])))\n",
    "                if ind in IP[d][s]:\n",
    "                    if incent_trips is None:\n",
    "                        incent_trips = [time_A, CC_A]\n",
    "                    else:\n",
    "                        incent_trips[0] = np.concatenate((incent_trips[0], time_A))\n",
    "                        incent_trips[1] = np.concatenate((incent_trips[1], CC_A))\n",
    "                else:\n",
    "                    if other_trips is None:\n",
    "                        other_trips = [time_A, CC_A]\n",
    "                    else:\n",
    "                        other_trips[0] = np.concatenate((other_trips[0], time_A))\n",
    "                        other_trips[1] = np.concatenate((other_trips[1], CC_A))\n",
    "                        \n",
    "    plot_XY.append((incent_trips, other_trips)) \n",
    "    plot_incent_CC(incent_trips, other_trips, model_name)"
   ]
  },
  {
   "cell_type": "code",
   "execution_count": 46,
   "metadata": {
    "collapsed": true
   },
   "outputs": [],
   "source": [
    "import matplotlib\n",
    "\n",
    "font = {'family' : 'normal',\n",
    "        'weight' : 'bold',\n",
    "        'size'   : 30}\n",
    "\n",
    "matplotlib.rc('font', **font)\n",
    "\n",
    "\n",
    "\n",
    "def plot_incent_CC(incent_trips, other_trips, filename):\n",
    "    font = {'family' : 'normal',\n",
    "            'weight' : 'bold',\n",
    "            'size'   : 30}\n",
    "\n",
    "    matplotlib.rc('font', **font)\n",
    "    incent_times = incent_trips[0] / 60.\n",
    "    other_times = other_trips[0] / 60.\n",
    "\n",
    "    incent_CC = incent_trips[1] * -1\n",
    "    other_CC = other_trips[1] * -1\n",
    "\n",
    "    # scatter delta cc to time.\n",
    "    plt.figure(figsize=(30,20))\n",
    "    plt.scatter(incent_times, incent_CC ,alpha = 0.3, s=100, c='r', label=filename)\n",
    "    plt.scatter(other_times, other_CC, alpha= 0.3, s=100,  c='b', label= 'Other Trips')\n",
    "    plt.title(\"Impact of Bike Angels\")\n",
    "    plt.xlabel(\"Time of ride (Hours)\")\n",
    "    plt.ylabel(\"Improvement in Objective\")\n",
    "    plt.xlim((5.9, 12.1))\n",
    "    plt.ylim((-1.1, 1.1))\n",
    "    plt.legend(loc = 'lower left')\n",
    "    plt.savefig('./plots/scatter_CC_{0}.png'.format(filename))\n",
    "    plt.close()"
   ]
  },
  {
   "cell_type": "code",
   "execution_count": 44,
   "metadata": {
    "collapsed": false
   },
   "outputs": [
    {
     "name": "stdout",
     "output_type": "stream",
     "text": [
      "182\n",
      "224\n",
      "224\n"
     ]
    }
   ],
   "source": []
  },
  {
   "cell_type": "code",
   "execution_count": 7,
   "metadata": {
    "collapsed": false
   },
   "outputs": [],
   "source": [
    "# Plot for each day, each station, the Incentive periods we would provide and the rides.\n",
    "\n",
    "%matplotlib inline\n",
    "\n",
    "static_IP_01 = static_IP[0.01]\n",
    "\n",
    "dates = rates.keys()\n",
    "dates.sort()\n",
    "start_day, end_day = dates[0], dates[-1]\n",
    "start_day = dt.datetime.strptime(start_day, '%Y_%m_%d')\n",
    "end_day = dt.datetime.strptime(end_day, '%Y_%m_%d') + dt.timedelta(days = 1)\n",
    "trips = tripDF[(tripDF['startDatetime'] >= start_day) & (tripDF['endDatetime'] < end_day) &\n",
    "              (tripDF['minuteIndex'] >= 360) & (tripDF['minuteIndex'] < 720)]\n",
    "\n",
    "for d in fluid_IP:\n",
    "    for s in fluid_IP[d]:\n",
    "        today = dt.datetime.strptime(d, '%Y_%m_%d')\n",
    "        tmrw = dt.timedelta(days= 1) + today\n",
    "        start_trips = trips[(trips['startDatetime'] >= today) & (trips['endDatetime'] < tmrw) &\n",
    "                            ((trips['startID'] == s) & (trips['start status'] < 0))]\n",
    "        end_trips = trips[(trips['startDatetime'] >= today) & (trips['endDatetime'] < tmrw) &\n",
    "                            ((trips['endID'] == s) & (trips['end status'] > 0))]\n",
    "                        \n",
    "        # Only plot if has more than 5 points.\n",
    "        if len(start_trips) + len(end_trips) > 5:\n",
    "            fig = plt.figure()\n",
    "            if len(start_trips) > 0:\n",
    "                plt.scatter((start_trips['minuteIndex'] / 60.), start_trips['startDeltaCC'], c='r')\n",
    "            if len(end_trips) > 0:\n",
    "                plt.scatter((end_trips['minuteIndex'] / 60.), end_trips['endDeltaCC'], c='b')\n",
    "            plt.title(\"Station:{0}, Date:{1}\".format(s, d))\n",
    "            plt.xlabel(\"Time of ride\")\n",
    "            plt.ylabel(\"Total Delta CC\")\n",
    "            plt.ylim((-2.1, 2.1))\n",
    "            plt.xlim((5.5, 12.5))\n",
    "            \n",
    "            # Fluid incentive periods\n",
    "            (start, end) = fluid_IP[d][s]\n",
    "            noise = np.random.normal(0, 0.2)\n",
    "            start = start / 60. + noise\n",
    "            end = end / 60. + noise\n",
    "            plt.vlines(x=start, ymin = -2.1, ymax= 2.1, colors='r', label = 'Fluid IP')\n",
    "            plt.vlines(x=end, ymin = -2.1, ymax= 2.1, colors='r')\n",
    "            \n",
    "            # Optimal incentive periods\n",
    "#             (start, end) = optimal_IP[d][s]\n",
    "#             noise = np.random.normal(0, 0.2)\n",
    "#             start = start / 60. + noise\n",
    "#             end = end / 60. + noise\n",
    "#             plt.vlines(x=start, ymin = -2.1, ymax= 2.1, colors='b')\n",
    "#             plt.vlines(x=end, ymin = -2.1, ymax= 2.1, colors='b')\n",
    "            \n",
    "            # static hindsight incentive periods\n",
    "            (start, end) = static_IP_01[d][s]\n",
    "            noise = np.random.normal(0, 0.2)\n",
    "            start = start / 60. + noise\n",
    "            end = end / 60. + noise\n",
    "            plt.vlines(x=start, ymin = -2.1, ymax= 2.1, colors='g', label= 'Static Hindsight')\n",
    "            plt.vlines(x=end, ymin = -2.1, ymax= 2.1, colors='g')\n",
    "            plt.legend()\n",
    "            fig.savefig('./plots/scatter_CC_incent_only/date_{0}_station_{1}.png'.format(s, d))\n",
    "            plt.close(fig)\n",
    "            #plt.show()"
   ]
  },
  {
   "cell_type": "code",
   "execution_count": 61,
   "metadata": {
    "collapsed": false
   },
   "outputs": [
    {
     "name": "stdout",
     "output_type": "stream",
     "text": [
      "fluid\n",
      "set([])\n",
      "static\n",
      "set([])\n",
      "dynamic\n",
      "set([486, 517, 137, 266, 524, 526, 399, 533, 150, 3223, 408, 153, 3098, 284, 157, 393, 545, 546, 3235, 164, 167, 3242, 457, 173, 3246, 3119, 469, 3124, 342, 265, 312, 313, 195, 453, 2017, 332, 339, 3147, 3148, 462, 336, 3153, 3154, 467, 468, 3157, 470, 472, 484, 346, 493, 478, 352, 225, 482, 356, 485, 358, 359, 360, 3068, 362, 487, 237, 238, 367, 368, 488, 302, 500, 3061, 247, 2004, 383, 380, 509, 127])\n",
      "147\n",
      "181\n"
     ]
    }
   ],
   "source": [
    "stations = rates['2016_12_06'].keys()\n",
    "IPS = [fluid_IP, static_IP[0.1], dyn_CC_IP[0.1]]\n",
    "names = ['fluid', 'static', 'dynamic']\n",
    "for IP, name in zip(IPS, names):\n",
    "    station_set = set()\n",
    "    for d in rates.keys():\n",
    "        for s in stations:\n",
    "            if s not in IP[d]:\n",
    "                station_set.add(s)\n",
    "    print name\n",
    "    print station_set\n",
    "                \n",
    "common_stations = set(stations).intersection(set(trip_stations))\n",
    "print len(common_stations)\n",
    "print len(trip_stations)"
   ]
  },
  {
   "cell_type": "code",
   "execution_count": 52,
   "metadata": {
    "collapsed": false
   },
   "outputs": [],
   "source": [
    "station_fill_lvls = pickle.load(open(config.station_fill_lvls, 'rb'))\n",
    "CC = pickle.load(open(config.all_CC, 'rb'))\n",
    "for s in trip_stations:\n",
    "    for i in xrange(12, 24):\n",
    "        try:\n",
    "            lvl = CC[i][s]\n",
    "        except Exception as e:\n",
    "            print s, i\n",
    "    \n",
    "            "
   ]
  },
  {
   "cell_type": "code",
   "execution_count": 50,
   "metadata": {
    "collapsed": false
   },
   "outputs": [],
   "source": [
    "import pandas as pd\n",
    "starts = tripDF[(tripDF['start status'] < 0) & (tripDF.minuteIndex >= 360) & (tripDF.minuteIndex <= 720)]['startID']\n",
    "ends = tripDF[(tripDF['end status'] > 0) & (tripDF.minuteIndex >= 360) & (tripDF.minuteIndex <= 720)]['endID']\n",
    "all_stations = pd.concat((starts, ends))"
   ]
  },
  {
   "cell_type": "code",
   "execution_count": 51,
   "metadata": {
    "collapsed": false
   },
   "outputs": [],
   "source": [
    "trip_stations = set(all_stations.tolist())"
   ]
  },
  {
   "cell_type": "code",
   "execution_count": 62,
   "metadata": {
    "collapsed": true
   },
   "outputs": [],
   "source": [
    "pickle.dump(common_stations, open('./data_files/common_stations.p', 'wb'))"
   ]
  },
  {
   "cell_type": "code",
   "execution_count": null,
   "metadata": {
    "collapsed": true
   },
   "outputs": [],
   "source": []
  }
 ],
 "metadata": {
  "kernelspec": {
   "display_name": "Python 2",
   "language": "python",
   "name": "python2"
  },
  "language_info": {
   "codemirror_mode": {
    "name": "ipython",
    "version": 2
   },
   "file_extension": ".py",
   "mimetype": "text/x-python",
   "name": "python",
   "nbconvert_exporter": "python",
   "pygments_lexer": "ipython2",
   "version": "2.7.12"
  }
 },
 "nbformat": 4,
 "nbformat_minor": 0
}
